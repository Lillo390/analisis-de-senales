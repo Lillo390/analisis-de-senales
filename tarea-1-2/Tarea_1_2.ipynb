{
 "cells": [
  {
   "attachments": {},
   "cell_type": "markdown",
   "metadata": {
    "id": "z1j9_6ZnMGxi"
   },
   "source": [
    "# Práctica 1 de Procesado de Lenguaje Natural:\n",
    "# Uso de expresiones regulares en Python\n",
    "En esta práctica vamos a utilizar el módulo `re` de Python y la librería Pandas para tratar con expresiones regulares. \n"
   ]
  },
  {
   "attachments": {},
   "cell_type": "markdown",
   "metadata": {},
   "source": [
    "### Nombres:\n",
    "Introduce en esta celda los nombres de los dos integrantes del grupo:\\\n",
    "Daniel Lillo Plaza"
   ]
  },
  {
   "attachments": {},
   "cell_type": "markdown",
   "metadata": {},
   "source": [
    "## Búsqueda de patrones\n",
    "En el módulo `re` hay 4 métodos para buscar un patrón de texto: `re.match`, `re.search`, `re.findall` y `re.finditer`"
   ]
  },
  {
   "cell_type": "code",
   "execution_count": 1,
   "metadata": {
    "colab": {
     "base_uri": "https://localhost:8080/"
    },
    "executionInfo": {
     "elapsed": 1133,
     "status": "ok",
     "timestamp": 1612889816666,
     "user": {
      "displayName": "Fernando Mateo",
      "photoUrl": "https://lh3.googleusercontent.com/a-/AOh14Gizefb6yPZHZKjiub7uZkBVDAAlyxghIopf0kaJMA=s64",
      "userId": "00905419803076074042"
     },
     "user_tz": -60
    },
    "id": "bet3rS2FMGxp",
    "outputId": "2db221ca-1521-4b22-d5c5-a2ca2641916f"
   },
   "outputs": [
    {
     "name": "stdout",
     "output_type": "stream",
     "text": [
      "None\n"
     ]
    }
   ],
   "source": [
    "import re\n",
    "\n",
    "texto = '\"Ethics are built right into the ideals and objectives of the United Nations\" \\\n",
    "#UNSG @NY @UN_Women Society for Ethical Culture bit.ly/2guVelr'\n",
    "\n",
    "print(re.match(r'@[A-Z]+', texto))"
   ]
  },
  {
   "cell_type": "markdown",
   "metadata": {
    "id": "_IL6RpK8MGxr"
   },
   "source": [
    "`re.match` sólo busca al inicio de la cadena, `re.search` busca la primera aparición del patrón en el texto."
   ]
  },
  {
   "cell_type": "code",
   "execution_count": 2,
   "metadata": {
    "colab": {
     "base_uri": "https://localhost:8080/"
    },
    "executionInfo": {
     "elapsed": 1161,
     "status": "ok",
     "timestamp": 1612880897266,
     "user": {
      "displayName": "Fernando Mateo",
      "photoUrl": "https://lh3.googleusercontent.com/a-/AOh14Gizefb6yPZHZKjiub7uZkBVDAAlyxghIopf0kaJMA=s64",
      "userId": "00905419803076074042"
     },
     "user_tz": -60
    },
    "id": "fGhJzdF5MGxr",
    "outputId": "a2cdae31-eadd-4792-f008-047f1033a73f"
   },
   "outputs": [
    {
     "name": "stdout",
     "output_type": "stream",
     "text": [
      "None\n"
     ]
    }
   ],
   "source": [
    "print(re.match(r'#[A-Z]+', texto))"
   ]
  },
  {
   "cell_type": "code",
   "execution_count": 3,
   "metadata": {
    "colab": {
     "base_uri": "https://localhost:8080/"
    },
    "executionInfo": {
     "elapsed": 1170,
     "status": "ok",
     "timestamp": 1612880901142,
     "user": {
      "displayName": "Fernando Mateo",
      "photoUrl": "https://lh3.googleusercontent.com/a-/AOh14Gizefb6yPZHZKjiub7uZkBVDAAlyxghIopf0kaJMA=s64",
      "userId": "00905419803076074042"
     },
     "user_tz": -60
    },
    "id": "ZcG_0_xyMGxs",
    "outputId": "f43cc50b-9f98-4fce-a54a-a68db16d885e"
   },
   "outputs": [
    {
     "name": "stdout",
     "output_type": "stream",
     "text": [
      "<re.Match object; span=(84, 87), match='@NY'>\n"
     ]
    }
   ],
   "source": [
    "print(re.search(r'@[\\w]+', texto))"
   ]
  },
  {
   "cell_type": "code",
   "execution_count": 4,
   "metadata": {
    "colab": {
     "base_uri": "https://localhost:8080/"
    },
    "executionInfo": {
     "elapsed": 893,
     "status": "ok",
     "timestamp": 1612880903173,
     "user": {
      "displayName": "Fernando Mateo",
      "photoUrl": "https://lh3.googleusercontent.com/a-/AOh14Gizefb6yPZHZKjiub7uZkBVDAAlyxghIopf0kaJMA=s64",
      "userId": "00905419803076074042"
     },
     "user_tz": -60
    },
    "id": "olpyrlXmMGxu",
    "outputId": "72fd3d0a-b263-4de4-ca2a-470b4fa09176"
   },
   "outputs": [
    {
     "name": "stdout",
     "output_type": "stream",
     "text": [
      "<re.Match object; span=(84, 87), match='@NY'>\n"
     ]
    }
   ],
   "source": [
    "print(re.search(r'@[A-Z]+', texto))"
   ]
  },
  {
   "cell_type": "markdown",
   "metadata": {
    "id": "6nXOYf6VMGxv"
   },
   "source": [
    "`re.match` y `re.search` devuelven un objeto `Match` que tiene varios métodos. El método `group()` contiene el patrón encontrado"
   ]
  },
  {
   "cell_type": "code",
   "execution_count": 5,
   "metadata": {
    "colab": {
     "base_uri": "https://localhost:8080/"
    },
    "executionInfo": {
     "elapsed": 1972,
     "status": "ok",
     "timestamp": 1612880907486,
     "user": {
      "displayName": "Fernando Mateo",
      "photoUrl": "https://lh3.googleusercontent.com/a-/AOh14Gizefb6yPZHZKjiub7uZkBVDAAlyxghIopf0kaJMA=s64",
      "userId": "00905419803076074042"
     },
     "user_tz": -60
    },
    "id": "F7oYgsmfMGxv",
    "outputId": "c2e58d25-6a09-4065-9391-c130bda120f8"
   },
   "outputs": [
    {
     "name": "stdout",
     "output_type": "stream",
     "text": [
      "span: (78, 83)\n",
      "start: 78\n",
      "end: 83\n",
      "group: #UNSG\n"
     ]
    }
   ],
   "source": [
    "match = re.search(r'#[A-Z]+', texto)\n",
    "print('span:',match.span())\n",
    "print('start:',match.start())\n",
    "print('end:',match.end())\n",
    "print('group:',match.group())"
   ]
  },
  {
   "cell_type": "markdown",
   "metadata": {
    "id": "lhdJnX9AMGxx"
   },
   "source": [
    "Para buscar todas las apariciones de un patrón en el texto usamos la función `re.findall`"
   ]
  },
  {
   "cell_type": "code",
   "execution_count": 6,
   "metadata": {
    "colab": {
     "base_uri": "https://localhost:8080/"
    },
    "executionInfo": {
     "elapsed": 1158,
     "status": "ok",
     "timestamp": 1612880913220,
     "user": {
      "displayName": "Fernando Mateo",
      "photoUrl": "https://lh3.googleusercontent.com/a-/AOh14Gizefb6yPZHZKjiub7uZkBVDAAlyxghIopf0kaJMA=s64",
      "userId": "00905419803076074042"
     },
     "user_tz": -60
    },
    "id": "cFySRDQLMGxy",
    "outputId": "e70d2506-dc66-43b5-c0f0-92be682d8e69"
   },
   "outputs": [
    {
     "name": "stdout",
     "output_type": "stream",
     "text": [
      "['@NY', '@UN_Women']\n"
     ]
    }
   ],
   "source": [
    "print(re.findall(r'@[\\w_]+', texto))"
   ]
  },
  {
   "cell_type": "markdown",
   "metadata": {
    "id": "o6hhKpi-MGxy"
   },
   "source": [
    "## Patrones complejos\n",
    "Ejemplo: queremos detectar cualquier fecha en un texto, pero la fecha puede seguir distintos patrones. Hay que definir un patrón con todas las posibilidades..."
   ]
  },
  {
   "cell_type": "code",
   "execution_count": 7,
   "metadata": {
    "id": "fyqqM7F6MGxz"
   },
   "outputs": [],
   "source": [
    "fechas = '23/9/2010, 23/09/2010, 23/9-10, 23-9-2010, 2/9/2010'"
   ]
  },
  {
   "cell_type": "code",
   "execution_count": 8,
   "metadata": {
    "colab": {
     "base_uri": "https://localhost:8080/"
    },
    "executionInfo": {
     "elapsed": 562,
     "status": "ok",
     "timestamp": 1612880931744,
     "user": {
      "displayName": "Fernando Mateo",
      "photoUrl": "https://lh3.googleusercontent.com/a-/AOh14Gizefb6yPZHZKjiub7uZkBVDAAlyxghIopf0kaJMA=s64",
      "userId": "00905419803076074042"
     },
     "user_tz": -60
    },
    "id": "mb1MFHmBMGx0",
    "outputId": "bd208384-2b28-4acc-a62d-3feabb3c45cb"
   },
   "outputs": [
    {
     "data": {
      "text/plain": [
       "['23/9/2010', '23/09/2010']"
      ]
     },
     "execution_count": 8,
     "metadata": {},
     "output_type": "execute_result"
    }
   ],
   "source": [
    "re.findall(r'\\d{2}/\\d{1,2}/\\d{4}', fechas) #captura sólo las fechas con formado dd/(m)m/aaaa"
   ]
  },
  {
   "cell_type": "code",
   "execution_count": 9,
   "metadata": {
    "colab": {
     "base_uri": "https://localhost:8080/"
    },
    "executionInfo": {
     "elapsed": 598,
     "status": "ok",
     "timestamp": 1612880935513,
     "user": {
      "displayName": "Fernando Mateo",
      "photoUrl": "https://lh3.googleusercontent.com/a-/AOh14Gizefb6yPZHZKjiub7uZkBVDAAlyxghIopf0kaJMA=s64",
      "userId": "00905419803076074042"
     },
     "user_tz": -60
    },
    "id": "My-8NuPJMGx0",
    "outputId": "1ac4065d-3b56-4579-be3e-80e79337fab8"
   },
   "outputs": [
    {
     "data": {
      "text/plain": [
       "['23/9/2010', '23/09/2010', '23/9-10', '23-9-2010', '2/9/2010']"
      ]
     },
     "execution_count": 9,
     "metadata": {},
     "output_type": "execute_result"
    }
   ],
   "source": [
    "re.findall(r'\\d{1,2}[/-]\\d{1,2}[/-]\\d{2,4}', fechas) #captura todos los formatos de fecha posibles"
   ]
  },
  {
   "cell_type": "code",
   "execution_count": 10,
   "metadata": {
    "colab": {
     "base_uri": "https://localhost:8080/"
    },
    "executionInfo": {
     "elapsed": 718,
     "status": "ok",
     "timestamp": 1612880937656,
     "user": {
      "displayName": "Fernando Mateo",
      "photoUrl": "https://lh3.googleusercontent.com/a-/AOh14Gizefb6yPZHZKjiub7uZkBVDAAlyxghIopf0kaJMA=s64",
      "userId": "00905419803076074042"
     },
     "user_tz": -60
    },
    "id": "NCPFp4gYMGx1",
    "outputId": "c5d86542-1061-4343-a495-a87051f47d8b"
   },
   "outputs": [
    {
     "data": {
      "text/plain": [
       "['5/10/12']"
      ]
     },
     "execution_count": 10,
     "metadata": {},
     "output_type": "execute_result"
    }
   ],
   "source": [
    "texto = 'El avión salió el 5/10/12 de Caracas'\n",
    "re.findall(r'\\d{1,2}[/-]\\d{1,2}[/-]\\d{2,4}', texto)"
   ]
  },
  {
   "cell_type": "markdown",
   "metadata": {
    "id": "hdyeDY3UMGx2"
   },
   "source": [
    "### Ejercicio 1\n",
    "¿Cómo podemos detectar *todas* las fechas de este texto?  \n",
    "*Ayuda: Utiliza el operador OR* (`|`) *para especificar dos patrones alternativos*"
   ]
  },
  {
   "cell_type": "code",
   "execution_count": 11,
   "metadata": {
    "id": "wyKor0_tMGx2"
   },
   "outputs": [],
   "source": [
    "texto = '''Francisco nació el 28/3/78, se casó el 20 de mayo del 98 y tuvo 2 hijos,\n",
    "el primero nació el 3-10-2001 y el segundo el 2 de junio de 2004'''"
   ]
  },
  {
   "cell_type": "code",
   "execution_count": 12,
   "metadata": {
    "colab": {
     "base_uri": "https://localhost:8080/"
    },
    "executionInfo": {
     "elapsed": 1993,
     "status": "ok",
     "timestamp": 1612880949115,
     "user": {
      "displayName": "Fernando Mateo",
      "photoUrl": "https://lh3.googleusercontent.com/a-/AOh14Gizefb6yPZHZKjiub7uZkBVDAAlyxghIopf0kaJMA=s64",
      "userId": "00905419803076074042"
     },
     "user_tz": -60
    },
    "id": "JsFlS1BQMGx3",
    "outputId": "12b4a0a2-c927-41a0-a041-b88433c02271"
   },
   "outputs": [
    {
     "data": {
      "text/plain": [
       "['28/3/78', '20 de mayo del 98', '3-10-2001', '2 de junio de 2004']"
      ]
     },
     "execution_count": 12,
     "metadata": {},
     "output_type": "execute_result"
    }
   ],
   "source": [
    "# Solución\n",
    "re.findall(r'\\d{1,2}[/-]\\d{1,2}[/-]\\d{2,4}|\\d{1,2} [a-z]{2} [a-z]{4,10} [a-z]{2,3} \\d{2,4}', texto)"
   ]
  },
  {
   "cell_type": "markdown",
   "metadata": {
    "id": "TaiWM5QTMGx4"
   },
   "source": [
    "## Captura de grupos\n",
    "Podemos buscar un patrón compuesto pero sólo recuperar una parte específica de éste."
   ]
  },
  {
   "cell_type": "code",
   "execution_count": 13,
   "metadata": {
    "id": "DnSLrTzpMGx5"
   },
   "outputs": [],
   "source": [
    "texto = '''Ingredientes de Arroz con Leche:\n",
    "- 200 gramos de arroz\n",
    "- 150 gramos de azúcar\n",
    "- Un litro de leche entera\n",
    "- Dos ramas de canela\n",
    "- Piel de un limón\n",
    "- Canela molida\n",
    "- 50 gramos de mantequilla (Opcional)\n",
    "'''"
   ]
  },
  {
   "cell_type": "markdown",
   "metadata": {
    "id": "0xwmDKa7MGx5"
   },
   "source": [
    "*¿Cuántos gr de azúcar tiene la receta?*  \n",
    "Podemos buscar todos los números del texto:"
   ]
  },
  {
   "cell_type": "code",
   "execution_count": 14,
   "metadata": {
    "colab": {
     "base_uri": "https://localhost:8080/"
    },
    "executionInfo": {
     "elapsed": 1159,
     "status": "ok",
     "timestamp": 1612880985781,
     "user": {
      "displayName": "Fernando Mateo",
      "photoUrl": "https://lh3.googleusercontent.com/a-/AOh14Gizefb6yPZHZKjiub7uZkBVDAAlyxghIopf0kaJMA=s64",
      "userId": "00905419803076074042"
     },
     "user_tz": -60
    },
    "id": "DBeKDgLCMGx6",
    "outputId": "c2aec5b1-7652-4296-f078-42c93193ad51"
   },
   "outputs": [
    {
     "data": {
      "text/plain": [
       "['200', '150', '50']"
      ]
     },
     "execution_count": 14,
     "metadata": {},
     "output_type": "execute_result"
    }
   ],
   "source": [
    "re.findall(r'\\d+', texto)"
   ]
  },
  {
   "cell_type": "markdown",
   "metadata": {
    "id": "fFFElyzyMGx7"
   },
   "source": [
    "Podemos buscar el patrón de los gramos de azúcar"
   ]
  },
  {
   "cell_type": "code",
   "execution_count": 15,
   "metadata": {
    "colab": {
     "base_uri": "https://localhost:8080/"
    },
    "executionInfo": {
     "elapsed": 748,
     "status": "ok",
     "timestamp": 1612881008819,
     "user": {
      "displayName": "Fernando Mateo",
      "photoUrl": "https://lh3.googleusercontent.com/a-/AOh14Gizefb6yPZHZKjiub7uZkBVDAAlyxghIopf0kaJMA=s64",
      "userId": "00905419803076074042"
     },
     "user_tz": -60
    },
    "id": "0hYRgGGeMGx8",
    "outputId": "11be7fd1-918c-4066-97f5-ed5cb99c5da7"
   },
   "outputs": [
    {
     "data": {
      "text/plain": [
       "['150 gramos de azúcar']"
      ]
     },
     "execution_count": 15,
     "metadata": {},
     "output_type": "execute_result"
    }
   ],
   "source": [
    "re.findall(r'\\d+ gramos de azúcar', texto)"
   ]
  },
  {
   "attachments": {},
   "cell_type": "markdown",
   "metadata": {
    "id": "A10pyiKOMGx8"
   },
   "source": [
    "Si de este patrón queremos devolver sólo la parte correspondiente al número lo asignamos a un grupo:"
   ]
  },
  {
   "cell_type": "code",
   "execution_count": 16,
   "metadata": {
    "colab": {
     "base_uri": "https://localhost:8080/"
    },
    "executionInfo": {
     "elapsed": 849,
     "status": "ok",
     "timestamp": 1612881025200,
     "user": {
      "displayName": "Fernando Mateo",
      "photoUrl": "https://lh3.googleusercontent.com/a-/AOh14Gizefb6yPZHZKjiub7uZkBVDAAlyxghIopf0kaJMA=s64",
      "userId": "00905419803076074042"
     },
     "user_tz": -60
    },
    "id": "xbEJfU51MGx9",
    "outputId": "9ee7a982-8f0b-4103-bd9d-6a95e9611ecb"
   },
   "outputs": [
    {
     "data": {
      "text/plain": [
       "['150']"
      ]
     },
     "execution_count": 16,
     "metadata": {},
     "output_type": "execute_result"
    }
   ],
   "source": [
    "re.findall(r'(\\d+) gramos de azúcar', texto)"
   ]
  },
  {
   "cell_type": "markdown",
   "metadata": {
    "id": "qV31RryBMGx9"
   },
   "source": [
    "Podemos definir varios grupos en la captura y recuperarlos como una tupla de textos.  \n",
    "*P.ej. ¿Cuántos gramos de cada ingrediente tenemos?*"
   ]
  },
  {
   "cell_type": "code",
   "execution_count": 17,
   "metadata": {
    "colab": {
     "base_uri": "https://localhost:8080/"
    },
    "executionInfo": {
     "elapsed": 549,
     "status": "ok",
     "timestamp": 1612881034067,
     "user": {
      "displayName": "Fernando Mateo",
      "photoUrl": "https://lh3.googleusercontent.com/a-/AOh14Gizefb6yPZHZKjiub7uZkBVDAAlyxghIopf0kaJMA=s64",
      "userId": "00905419803076074042"
     },
     "user_tz": -60
    },
    "id": "JfwzODefMGx-",
    "outputId": "c498b285-a81d-4c3b-fa33-27a797640f36"
   },
   "outputs": [
    {
     "data": {
      "text/plain": [
       "[('200', 'arroz'), ('150', 'azúcar'), ('50', 'mantequilla')]"
      ]
     },
     "execution_count": 17,
     "metadata": {},
     "output_type": "execute_result"
    }
   ],
   "source": [
    "re.findall(r'(\\d+) gramos de (\\w+)', texto)"
   ]
  },
  {
   "cell_type": "markdown",
   "metadata": {
    "id": "lo5xr_9iMGx-"
   },
   "source": [
    "Incluso podemos asignar un nombre a cada grupo. El objeto devuelto crea un diccionario con los grupos encontrados. "
   ]
  },
  {
   "cell_type": "code",
   "execution_count": 18,
   "metadata": {
    "colab": {
     "base_uri": "https://localhost:8080/"
    },
    "executionInfo": {
     "elapsed": 784,
     "status": "ok",
     "timestamp": 1612881127602,
     "user": {
      "displayName": "Fernando Mateo",
      "photoUrl": "https://lh3.googleusercontent.com/a-/AOh14Gizefb6yPZHZKjiub7uZkBVDAAlyxghIopf0kaJMA=s64",
      "userId": "00905419803076074042"
     },
     "user_tz": -60
    },
    "id": "GuTLwqYsMGx_",
    "outputId": "fdfbe27a-8ce9-47e4-ccef-0fb7ad5417ee"
   },
   "outputs": [
    {
     "name": "stdout",
     "output_type": "stream",
     "text": [
      "('200', 'arroz')\n"
     ]
    },
    {
     "data": {
      "text/plain": [
       "{'gramos': '200', 'ingrediente': 'arroz'}"
      ]
     },
     "execution_count": 18,
     "metadata": {},
     "output_type": "execute_result"
    }
   ],
   "source": [
    "matches = re.search(r'(?P<gramos>\\d+) gramos de (?P<ingrediente>\\w+)', texto)\n",
    "print(matches.groups())\n",
    "matches.groupdict()"
   ]
  },
  {
   "cell_type": "code",
   "execution_count": 19,
   "metadata": {
    "colab": {
     "base_uri": "https://localhost:8080/",
     "height": 38
    },
    "executionInfo": {
     "elapsed": 565,
     "status": "ok",
     "timestamp": 1612881052266,
     "user": {
      "displayName": "Fernando Mateo",
      "photoUrl": "https://lh3.googleusercontent.com/a-/AOh14Gizefb6yPZHZKjiub7uZkBVDAAlyxghIopf0kaJMA=s64",
      "userId": "00905419803076074042"
     },
     "user_tz": -60
    },
    "id": "SMdCFsKJMGx_",
    "outputId": "632990e3-570b-4c70-e4b5-508c7373472c"
   },
   "outputs": [
    {
     "data": {
      "text/plain": [
       "'200'"
      ]
     },
     "execution_count": 19,
     "metadata": {},
     "output_type": "execute_result"
    }
   ],
   "source": [
    "matches.group('gramos') #alternativamente matches['gramos']"
   ]
  },
  {
   "cell_type": "code",
   "execution_count": 20,
   "metadata": {
    "colab": {
     "base_uri": "https://localhost:8080/",
     "height": 38
    },
    "executionInfo": {
     "elapsed": 709,
     "status": "ok",
     "timestamp": 1612881055321,
     "user": {
      "displayName": "Fernando Mateo",
      "photoUrl": "https://lh3.googleusercontent.com/a-/AOh14Gizefb6yPZHZKjiub7uZkBVDAAlyxghIopf0kaJMA=s64",
      "userId": "00905419803076074042"
     },
     "user_tz": -60
    },
    "id": "KU3ZxNHpMGyA",
    "outputId": "aceb6ede-8210-477b-cf7e-380145cce079"
   },
   "outputs": [
    {
     "data": {
      "text/plain": [
       "'arroz'"
      ]
     },
     "execution_count": 20,
     "metadata": {},
     "output_type": "execute_result"
    }
   ],
   "source": [
    "matches.group('ingrediente') #alternativamente matches['ingrediente']"
   ]
  },
  {
   "cell_type": "markdown",
   "metadata": {
    "id": "1nBVMEj6MGyA"
   },
   "source": [
    "Para buscar todas las repeticiones de un patrón con grupos enumerados no podemos usar `re.findall` sino que tenemos que usar la versión iterativa `re.finditer` que devuelve un *iterable* sobre objetos de tipo `re.Match`"
   ]
  },
  {
   "cell_type": "code",
   "execution_count": 21,
   "metadata": {
    "colab": {
     "base_uri": "https://localhost:8080/"
    },
    "executionInfo": {
     "elapsed": 610,
     "status": "ok",
     "timestamp": 1612881254722,
     "user": {
      "displayName": "Fernando Mateo",
      "photoUrl": "https://lh3.googleusercontent.com/a-/AOh14Gizefb6yPZHZKjiub7uZkBVDAAlyxghIopf0kaJMA=s64",
      "userId": "00905419803076074042"
     },
     "user_tz": -60
    },
    "id": "jSWLth8cMGyB",
    "outputId": "920c4488-ee14-46fb-9aa4-fd5642a06e24"
   },
   "outputs": [
    {
     "data": {
      "text/plain": [
       "[<re.Match object; span=(35, 54), match='200 gramos de arroz'>,\n",
       " <re.Match object; span=(57, 77), match='150 gramos de azúcar'>,\n",
       " <re.Match object; span=(164, 188), match='50 gramos de mantequilla'>]"
      ]
     },
     "execution_count": 21,
     "metadata": {},
     "output_type": "execute_result"
    }
   ],
   "source": [
    "matches = list(re.finditer(r'(?P<gramos>\\d+) gramos de (?P<ingrediente>\\w+)', texto))\n",
    "matches"
   ]
  },
  {
   "cell_type": "code",
   "execution_count": 22,
   "metadata": {
    "colab": {
     "base_uri": "https://localhost:8080/"
    },
    "executionInfo": {
     "elapsed": 577,
     "status": "ok",
     "timestamp": 1612881259283,
     "user": {
      "displayName": "Fernando Mateo",
      "photoUrl": "https://lh3.googleusercontent.com/a-/AOh14Gizefb6yPZHZKjiub7uZkBVDAAlyxghIopf0kaJMA=s64",
      "userId": "00905419803076074042"
     },
     "user_tz": -60
    },
    "id": "zhTOclIDMGyC",
    "outputId": "a2a88bb6-cf6a-4623-bb99-eb91fa2248fa"
   },
   "outputs": [
    {
     "data": {
      "text/plain": [
       "{'gramos': '150', 'ingrediente': 'azúcar'}"
      ]
     },
     "execution_count": 22,
     "metadata": {},
     "output_type": "execute_result"
    }
   ],
   "source": [
    "matches[1].groupdict()"
   ]
  },
  {
   "cell_type": "markdown",
   "metadata": {
    "id": "ngjB4NbgMGyC"
   },
   "source": [
    "Podemos crear una *list comprehension* recorriendo sobre el resultado de `re.findall`:"
   ]
  },
  {
   "cell_type": "code",
   "execution_count": 23,
   "metadata": {
    "colab": {
     "base_uri": "https://localhost:8080/"
    },
    "executionInfo": {
     "elapsed": 740,
     "status": "ok",
     "timestamp": 1612881607231,
     "user": {
      "displayName": "Fernando Mateo",
      "photoUrl": "https://lh3.googleusercontent.com/a-/AOh14Gizefb6yPZHZKjiub7uZkBVDAAlyxghIopf0kaJMA=s64",
      "userId": "00905419803076074042"
     },
     "user_tz": -60
    },
    "id": "qX_NnoV7MGyD",
    "outputId": "25aab9d0-91a5-4dc2-ea82-7775ba6a77c1"
   },
   "outputs": [
    {
     "data": {
      "text/plain": [
       "[('arroz', '200'), ('azúcar', '150'), ('mantequilla', '50')]"
      ]
     },
     "execution_count": 23,
     "metadata": {},
     "output_type": "execute_result"
    }
   ],
   "source": [
    "[(ingredientes, gramos) for (gramos, ingredientes) in re.findall(r'(?P<gramos>\\d+) gramos de (?P<ingrediente>\\w+)', texto)]"
   ]
  },
  {
   "cell_type": "markdown",
   "metadata": {
    "id": "bby7ifbcMGyD"
   },
   "source": [
    "### Ejercicio 2\n",
    "Genera un diccionario de Python con los gramos de cada ingrediente a partir de la lista `matches`.  \n",
    "El resultado debe ser:  \n",
    "```python\n",
    "{'arroz': '200', 'azúcar': '150', 'mantequilla': '50'}\n",
    "```"
   ]
  },
  {
   "cell_type": "code",
   "execution_count": 24,
   "metadata": {
    "colab": {
     "base_uri": "https://localhost:8080/"
    },
    "executionInfo": {
     "elapsed": 583,
     "status": "ok",
     "timestamp": 1612885864930,
     "user": {
      "displayName": "Fernando Mateo",
      "photoUrl": "https://lh3.googleusercontent.com/a-/AOh14Gizefb6yPZHZKjiub7uZkBVDAAlyxghIopf0kaJMA=s64",
      "userId": "00905419803076074042"
     },
     "user_tz": -60
    },
    "id": "TOqwI9_FMGyE",
    "outputId": "2c259a16-8558-4c3a-93ab-60f1318498c3"
   },
   "outputs": [
    {
     "data": {
      "text/plain": [
       "{'arroz': '200', 'azúcar': '150', 'mantequilla': '50'}"
      ]
     },
     "execution_count": 24,
     "metadata": {},
     "output_type": "execute_result"
    }
   ],
   "source": [
    "#Solución\n",
    "\n",
    "diccionario_ingredientes = {}\n",
    "\n",
    "for ingrediente in [(matches[i].groupdict()) for i in (range(len(matches)))]:\n",
    "    diccionario_ingredientes[ingrediente['ingrediente']] = ingrediente['gramos']\n",
    "\n",
    "diccionario_ingredientes\n"
   ]
  },
  {
   "cell_type": "code",
   "execution_count": 25,
   "metadata": {},
   "outputs": [
    {
     "data": {
      "text/plain": [
       "{'arroz': '200', 'azúcar': '150', 'mantequilla': '50'}"
      ]
     },
     "execution_count": 25,
     "metadata": {},
     "output_type": "execute_result"
    }
   ],
   "source": [
    "# Alternativamente\n",
    "\n",
    "diccionario = {x['ingrediente']:x['gramos'] for x in matches}\n",
    "diccionario"
   ]
  },
  {
   "cell_type": "markdown",
   "metadata": {
    "id": "_rzVS_9JQF4D"
   },
   "source": [
    "### Ejercicio 3\n",
    "Crea una lista con todos los valores de `span()` de los patrones encontrados en `matches`, almacenados como tuplas."
   ]
  },
  {
   "cell_type": "code",
   "execution_count": 26,
   "metadata": {
    "colab": {
     "base_uri": "https://localhost:8080/"
    },
    "executionInfo": {
     "elapsed": 623,
     "status": "ok",
     "timestamp": 1612881558183,
     "user": {
      "displayName": "Fernando Mateo",
      "photoUrl": "https://lh3.googleusercontent.com/a-/AOh14Gizefb6yPZHZKjiub7uZkBVDAAlyxghIopf0kaJMA=s64",
      "userId": "00905419803076074042"
     },
     "user_tz": -60
    },
    "id": "iWd-yDpuN44u",
    "outputId": "230b8b56-532a-4ac2-88fd-905923fb3ec6"
   },
   "outputs": [
    {
     "data": {
      "text/plain": [
       "[(35, 54), (57, 77), (164, 188)]"
      ]
     },
     "execution_count": 26,
     "metadata": {},
     "output_type": "execute_result"
    }
   ],
   "source": [
    "#solución\n",
    "\n",
    "[matches[i].span() for i in range(len(matches))]"
   ]
  },
  {
   "cell_type": "markdown",
   "metadata": {
    "id": "5NsTgQg9ulBm"
   },
   "source": [
    "### Ejercicio 4\n",
    "\n",
    "Dado el siguente texto:"
   ]
  },
  {
   "cell_type": "code",
   "execution_count": 27,
   "metadata": {
    "executionInfo": {
     "elapsed": 448,
     "status": "ok",
     "timestamp": 1612890129973,
     "user": {
      "displayName": "Fernando Mateo",
      "photoUrl": "https://lh3.googleusercontent.com/a-/AOh14Gizefb6yPZHZKjiub7uZkBVDAAlyxghIopf0kaJMA=s64",
      "userId": "00905419803076074042"
     },
     "user_tz": -60
    },
    "id": "Prm2vyk8YNkj"
   },
   "outputs": [],
   "source": [
    "texto = 'Some authors like Jason Foster (y.foster@abcd.com), R. Davis (rdavis22@www.uk) and Charlotte Williams (ch_williams@usa.gov) observed that...'"
   ]
  },
  {
   "cell_type": "markdown",
   "metadata": {
    "id": "1Y3qGB56cIH0"
   },
   "source": [
    "#### Ej 4.1\n",
    "Extrae todos los nombres y apellidos de personas de este texto como una lista de diccionarios con las claves `nombre` y `apellido`. Convierte esa lista en un DataFrame de Pandas."
   ]
  },
  {
   "cell_type": "code",
   "execution_count": 28,
   "metadata": {
    "executionInfo": {
     "elapsed": 691,
     "status": "ok",
     "timestamp": 1612890133064,
     "user": {
      "displayName": "Fernando Mateo",
      "photoUrl": "https://lh3.googleusercontent.com/a-/AOh14Gizefb6yPZHZKjiub7uZkBVDAAlyxghIopf0kaJMA=s64",
      "userId": "00905419803076074042"
     },
     "user_tz": -60
    },
    "id": "_VS6-koPY5ho"
   },
   "outputs": [
    {
     "data": {
      "text/html": [
       "<div>\n",
       "<style scoped>\n",
       "    .dataframe tbody tr th:only-of-type {\n",
       "        vertical-align: middle;\n",
       "    }\n",
       "\n",
       "    .dataframe tbody tr th {\n",
       "        vertical-align: top;\n",
       "    }\n",
       "\n",
       "    .dataframe thead th {\n",
       "        text-align: right;\n",
       "    }\n",
       "</style>\n",
       "<table border=\"1\" class=\"dataframe\">\n",
       "  <thead>\n",
       "    <tr style=\"text-align: right;\">\n",
       "      <th></th>\n",
       "      <th>nombre</th>\n",
       "      <th>apellido</th>\n",
       "    </tr>\n",
       "  </thead>\n",
       "  <tbody>\n",
       "    <tr>\n",
       "      <th>0</th>\n",
       "      <td>Jason</td>\n",
       "      <td>Foster</td>\n",
       "    </tr>\n",
       "    <tr>\n",
       "      <th>1</th>\n",
       "      <td>R.</td>\n",
       "      <td>Davis</td>\n",
       "    </tr>\n",
       "    <tr>\n",
       "      <th>2</th>\n",
       "      <td>Charlotte</td>\n",
       "      <td>Williams</td>\n",
       "    </tr>\n",
       "  </tbody>\n",
       "</table>\n",
       "</div>"
      ],
      "text/plain": [
       "      nombre  apellido\n",
       "0      Jason    Foster\n",
       "1         R.     Davis\n",
       "2  Charlotte  Williams"
      ]
     },
     "execution_count": 28,
     "metadata": {},
     "output_type": "execute_result"
    }
   ],
   "source": [
    "#Solución\n",
    "import pandas as pd\n",
    "matches = re.findall(r'([A-Z]+[.a-z]+) ([A-Z][a-z]+)', texto)\n",
    "\n",
    "pd.DataFrame([{'nombre':matches[i][0],'apellido':matches[i][1]} for i in range(len(matches))])\n"
   ]
  },
  {
   "cell_type": "code",
   "execution_count": 36,
   "metadata": {},
   "outputs": [
    {
     "data": {
      "text/html": [
       "<div>\n",
       "<style scoped>\n",
       "    .dataframe tbody tr th:only-of-type {\n",
       "        vertical-align: middle;\n",
       "    }\n",
       "\n",
       "    .dataframe tbody tr th {\n",
       "        vertical-align: top;\n",
       "    }\n",
       "\n",
       "    .dataframe thead th {\n",
       "        text-align: right;\n",
       "    }\n",
       "</style>\n",
       "<table border=\"1\" class=\"dataframe\">\n",
       "  <thead>\n",
       "    <tr style=\"text-align: right;\">\n",
       "      <th></th>\n",
       "      <th>nombre</th>\n",
       "      <th>apellido</th>\n",
       "    </tr>\n",
       "  </thead>\n",
       "  <tbody>\n",
       "    <tr>\n",
       "      <th>0</th>\n",
       "      <td>Jason</td>\n",
       "      <td>Foster</td>\n",
       "    </tr>\n",
       "    <tr>\n",
       "      <th>1</th>\n",
       "      <td>R.</td>\n",
       "      <td>Davis</td>\n",
       "    </tr>\n",
       "    <tr>\n",
       "      <th>2</th>\n",
       "      <td>Charlotte</td>\n",
       "      <td>Williams</td>\n",
       "    </tr>\n",
       "  </tbody>\n",
       "</table>\n",
       "</div>"
      ],
      "text/plain": [
       "      nombre  apellido\n",
       "0      Jason    Foster\n",
       "1         R.     Davis\n",
       "2  Charlotte  Williams"
      ]
     },
     "execution_count": 36,
     "metadata": {},
     "output_type": "execute_result"
    }
   ],
   "source": [
    "# Alternativo\n",
    "\n",
    "matches = re.finditer(r'(?P<nombre>[A-Z]+[.a-z]+) (?P<apellido>[A-Z][a-z]+)', texto)\n",
    "\n",
    "pd.DataFrame([{'nombre':x['nombre'],'apellido':x['apellido']} for x in matches])"
   ]
  },
  {
   "cell_type": "markdown",
   "metadata": {
    "id": "4oYF-fbkvzBG"
   },
   "source": [
    "#### Ej. 4.2\n",
    "Extrae todos los emails del texto anterior como una lista."
   ]
  },
  {
   "cell_type": "code",
   "execution_count": 37,
   "metadata": {
    "colab": {
     "base_uri": "https://localhost:8080/"
    },
    "executionInfo": {
     "elapsed": 810,
     "status": "ok",
     "timestamp": 1612890144981,
     "user": {
      "displayName": "Fernando Mateo",
      "photoUrl": "https://lh3.googleusercontent.com/a-/AOh14Gizefb6yPZHZKjiub7uZkBVDAAlyxghIopf0kaJMA=s64",
      "userId": "00905419803076074042"
     },
     "user_tz": -60
    },
    "id": "DlgOp6kXkaA6",
    "outputId": "fe959c90-474a-4b84-d2f3-724925144bb5"
   },
   "outputs": [
    {
     "data": {
      "text/plain": [
       "['y.foster@abcd.com', 'rdavis22@www.uk', 'ch_williams@usa.gov']"
      ]
     },
     "execution_count": 37,
     "metadata": {},
     "output_type": "execute_result"
    }
   ],
   "source": [
    "#Solución\n",
    "matches = re.findall(r'[\\w.a-z\\d]+@[a-z]+.[a-z]+', texto)\n",
    "matches"
   ]
  },
  {
   "cell_type": "markdown",
   "metadata": {},
   "source": [
    "## Uso de non-capturing groups\n",
    "Cuando usamos un grupo para definir un patrón complejo pero queremos capturar toda la expresión usamos un *non-capturing group*:"
   ]
  },
  {
   "cell_type": "code",
   "execution_count": 98,
   "metadata": {},
   "outputs": [
    {
     "data": {
      "text/plain": [
       "['15 de agosto', '20 de septiembre']"
      ]
     },
     "execution_count": 98,
     "metadata": {},
     "output_type": "execute_result"
    }
   ],
   "source": [
    "texto = \"entre el 15 de agosto y el 20 de septiembre, no el 15 de 2020\"\n",
    "re.findall(r'\\d+ de (?:enero|febrero|marzo|abril|mayo|junio|julio|agosto|\\w+bre\\b)', texto)"
   ]
  },
  {
   "cell_type": "markdown",
   "metadata": {},
   "source": [
    "### Ejercicio 5\n",
    "Crea un patrón RegEx para detectar todas las URL que pertenezcan a un dominio `.es` del siguiente texto:  \n",
    "Ayuda: el patrón debe buscar el texto `.es` detrás de un patrón repetido `algo.` (una o más veces), seguido de un patrón opcional de tipo `/algo/algo_más`"
   ]
  },
  {
   "cell_type": "code",
   "execution_count": 38,
   "metadata": {},
   "outputs": [],
   "source": [
    "texto = \"amazon.com amazon.es google.es/shopping aliexpress.com.es www.elcorteingles.es\""
   ]
  },
  {
   "cell_type": "code",
   "execution_count": 39,
   "metadata": {},
   "outputs": [
    {
     "data": {
      "text/plain": [
       "['amazon.es',\n",
       " 'google.es/shopping',\n",
       " 'aliexpress.com.es',\n",
       " 'www.elcorteingles.es']"
      ]
     },
     "execution_count": 39,
     "metadata": {},
     "output_type": "execute_result"
    }
   ],
   "source": [
    "#Solución\n",
    "re.findall(r'[.\\w]+es[\\/a-z]*', texto)"
   ]
  },
  {
   "cell_type": "markdown",
   "metadata": {},
   "source": [
    "## Substitución de patrones\n",
    "La función `re.sub()` permite sustituir texto capturado por una expresión regular.\n",
    "\n",
    "### Ejercicio 6\n",
    "Sustituye en el siguiente texto los importes expresados como `$valor` a la forma `valor$`  \n",
    "Nota: el símbolo `$` tiene un significado especial en RegEx por lo que hay que escaparlo como `\\$`"
   ]
  },
  {
   "cell_type": "code",
   "execution_count": 40,
   "metadata": {},
   "outputs": [],
   "source": [
    "texto = \"El coste total fue de $320, repartidos en $225.7 en comida y $94.3 en bebida\"\n",
    "\n"
   ]
  },
  {
   "cell_type": "code",
   "execution_count": 41,
   "metadata": {},
   "outputs": [
    {
     "name": "stdout",
     "output_type": "stream",
     "text": [
      "El coste total fue de 320$, repartidos en 225.7$ en comida y 94.3$ en bebida\n"
     ]
    }
   ],
   "source": [
    "#solución\n",
    "\n",
    "texto_sustituido = re.sub(r'\\$(\\d+(?:\\.\\d+)?)', r'\\1$', texto)\n",
    "\n",
    "print(texto_sustituido)"
   ]
  },
  {
   "cell_type": "markdown",
   "metadata": {
    "id": "LBlzADiQMGyF"
   },
   "source": [
    "## Uso de RegEx con objetos de Pandas\n",
    "Si tenemos un objeto Series de Pandas podemos aplicar las funciones de texto o de búsqueda de expresiones regulares sobre el contenido de cada elemento (en un DataFrame cada columna es un objeto Series)."
   ]
  },
  {
   "cell_type": "code",
   "execution_count": 43,
   "metadata": {
    "colab": {
     "base_uri": "https://localhost:8080/",
     "height": 204
    },
    "executionInfo": {
     "elapsed": 600,
     "status": "ok",
     "timestamp": 1612882360640,
     "user": {
      "displayName": "Fernando Mateo",
      "photoUrl": "https://lh3.googleusercontent.com/a-/AOh14Gizefb6yPZHZKjiub7uZkBVDAAlyxghIopf0kaJMA=s64",
      "userId": "00905419803076074042"
     },
     "user_tz": -60
    },
    "id": "f29e3f09MGyF",
    "outputId": "220f4e57-e8e1-4921-b9e6-a43e3b39efd5"
   },
   "outputs": [
    {
     "data": {
      "text/html": [
       "<div>\n",
       "<style scoped>\n",
       "    .dataframe tbody tr th:only-of-type {\n",
       "        vertical-align: middle;\n",
       "    }\n",
       "\n",
       "    .dataframe tbody tr th {\n",
       "        vertical-align: top;\n",
       "    }\n",
       "\n",
       "    .dataframe thead th {\n",
       "        text-align: right;\n",
       "    }\n",
       "</style>\n",
       "<table border=\"1\" class=\"dataframe\">\n",
       "  <thead>\n",
       "    <tr style=\"text-align: right;\">\n",
       "      <th></th>\n",
       "      <th>texto</th>\n",
       "    </tr>\n",
       "  </thead>\n",
       "  <tbody>\n",
       "    <tr>\n",
       "      <th>0</th>\n",
       "      <td>Tengo cita con el doctor a las 2:45.</td>\n",
       "    </tr>\n",
       "    <tr>\n",
       "      <th>1</th>\n",
       "      <td>el martes llegaré a las 11:30.</td>\n",
       "    </tr>\n",
       "    <tr>\n",
       "      <th>2</th>\n",
       "      <td>No puedo, tengo un partido a las 7:00.</td>\n",
       "    </tr>\n",
       "    <tr>\n",
       "      <th>3</th>\n",
       "      <td>Nos vemos el jueves 7 a las 8:30.</td>\n",
       "    </tr>\n",
       "    <tr>\n",
       "      <th>4</th>\n",
       "      <td>El tren sale a las 9:15 y llega a las 11:35.</td>\n",
       "    </tr>\n",
       "  </tbody>\n",
       "</table>\n",
       "</div>"
      ],
      "text/plain": [
       "                                          texto\n",
       "0          Tengo cita con el doctor a las 2:45.\n",
       "1                el martes llegaré a las 11:30.\n",
       "2        No puedo, tengo un partido a las 7:00.\n",
       "3             Nos vemos el jueves 7 a las 8:30.\n",
       "4  El tren sale a las 9:15 y llega a las 11:35."
      ]
     },
     "execution_count": 43,
     "metadata": {},
     "output_type": "execute_result"
    }
   ],
   "source": [
    "import pandas as pd\n",
    "\n",
    "frases = [\"Tengo cita con el doctor a las 2:45.\", \n",
    "          \"el martes llegaré a las 11:30.\",\n",
    "          \"No puedo, tengo un partido a las 7:00.\",\n",
    "          \"Nos vemos el jueves 7 a las 8:30.\",\n",
    "          \"El tren sale a las 9:15 y llega a las 11:35.\"]\n",
    "\n",
    "df = pd.DataFrame(frases, columns=['texto'])\n",
    "df"
   ]
  },
  {
   "cell_type": "markdown",
   "metadata": {
    "id": "oqv_ld5-MGyG"
   },
   "source": [
    "### Captura de grupos:"
   ]
  },
  {
   "cell_type": "code",
   "execution_count": 44,
   "metadata": {
    "colab": {
     "base_uri": "https://localhost:8080/"
    },
    "executionInfo": {
     "elapsed": 587,
     "status": "ok",
     "timestamp": 1612882425533,
     "user": {
      "displayName": "Fernando Mateo",
      "photoUrl": "https://lh3.googleusercontent.com/a-/AOh14Gizefb6yPZHZKjiub7uZkBVDAAlyxghIopf0kaJMA=s64",
      "userId": "00905419803076074042"
     },
     "user_tz": -60
    },
    "id": "LBKj4LB0MGyG",
    "outputId": "fe4c05fa-e6af-43c9-a284-544c2a11760a"
   },
   "outputs": [
    {
     "data": {
      "text/plain": [
       "0              [(2, 45)]\n",
       "1             [(11, 30)]\n",
       "2              [(7, 00)]\n",
       "3              [(8, 30)]\n",
       "4    [(9, 15), (11, 35)]\n",
       "Name: texto, dtype: object"
      ]
     },
     "execution_count": 44,
     "metadata": {},
     "output_type": "execute_result"
    }
   ],
   "source": [
    "# busca las ocurrencias de hora:minuto en los textos\n",
    "df['texto'].str.findall(r'(\\d{1,2}):(\\d{2})')"
   ]
  },
  {
   "cell_type": "markdown",
   "metadata": {
    "id": "H1KOMDe2MGyH"
   },
   "source": [
    "### Captura de grupos numerados:"
   ]
  },
  {
   "cell_type": "code",
   "execution_count": 45,
   "metadata": {
    "colab": {
     "base_uri": "https://localhost:8080/",
     "height": 266
    },
    "executionInfo": {
     "elapsed": 554,
     "status": "ok",
     "timestamp": 1612882495823,
     "user": {
      "displayName": "Fernando Mateo",
      "photoUrl": "https://lh3.googleusercontent.com/a-/AOh14Gizefb6yPZHZKjiub7uZkBVDAAlyxghIopf0kaJMA=s64",
      "userId": "00905419803076074042"
     },
     "user_tz": -60
    },
    "id": "NDXOwzwPMGyH",
    "outputId": "15d6c3cc-042c-4cdb-eecd-ce4a51868a10"
   },
   "outputs": [
    {
     "data": {
      "text/html": [
       "<div>\n",
       "<style scoped>\n",
       "    .dataframe tbody tr th:only-of-type {\n",
       "        vertical-align: middle;\n",
       "    }\n",
       "\n",
       "    .dataframe tbody tr th {\n",
       "        vertical-align: top;\n",
       "    }\n",
       "\n",
       "    .dataframe thead th {\n",
       "        text-align: right;\n",
       "    }\n",
       "</style>\n",
       "<table border=\"1\" class=\"dataframe\">\n",
       "  <thead>\n",
       "    <tr style=\"text-align: right;\">\n",
       "      <th></th>\n",
       "      <th></th>\n",
       "      <th>tiempo</th>\n",
       "      <th>hora</th>\n",
       "      <th>minutos</th>\n",
       "    </tr>\n",
       "    <tr>\n",
       "      <th></th>\n",
       "      <th>match</th>\n",
       "      <th></th>\n",
       "      <th></th>\n",
       "      <th></th>\n",
       "    </tr>\n",
       "  </thead>\n",
       "  <tbody>\n",
       "    <tr>\n",
       "      <th>0</th>\n",
       "      <th>0</th>\n",
       "      <td>2:45</td>\n",
       "      <td>2</td>\n",
       "      <td>45</td>\n",
       "    </tr>\n",
       "    <tr>\n",
       "      <th>1</th>\n",
       "      <th>0</th>\n",
       "      <td>11:30</td>\n",
       "      <td>11</td>\n",
       "      <td>30</td>\n",
       "    </tr>\n",
       "    <tr>\n",
       "      <th>2</th>\n",
       "      <th>0</th>\n",
       "      <td>7:00</td>\n",
       "      <td>7</td>\n",
       "      <td>00</td>\n",
       "    </tr>\n",
       "    <tr>\n",
       "      <th>3</th>\n",
       "      <th>0</th>\n",
       "      <td>8:30</td>\n",
       "      <td>8</td>\n",
       "      <td>30</td>\n",
       "    </tr>\n",
       "    <tr>\n",
       "      <th rowspan=\"2\" valign=\"top\">4</th>\n",
       "      <th>0</th>\n",
       "      <td>9:15</td>\n",
       "      <td>9</td>\n",
       "      <td>15</td>\n",
       "    </tr>\n",
       "    <tr>\n",
       "      <th>1</th>\n",
       "      <td>11:35</td>\n",
       "      <td>11</td>\n",
       "      <td>35</td>\n",
       "    </tr>\n",
       "  </tbody>\n",
       "</table>\n",
       "</div>"
      ],
      "text/plain": [
       "        tiempo hora minutos\n",
       "  match                    \n",
       "0 0       2:45    2      45\n",
       "1 0      11:30   11      30\n",
       "2 0       7:00    7      00\n",
       "3 0       8:30    8      30\n",
       "4 0       9:15    9      15\n",
       "  1      11:35   11      35"
      ]
     },
     "execution_count": 45,
     "metadata": {},
     "output_type": "execute_result"
    }
   ],
   "source": [
    "# extrae todas las apariciones de tiempo y separa horas y minutos\n",
    "df['texto'].str.extractall(r'(?P<tiempo>(?P<hora>\\d?\\d):(?P<minutos>\\d\\d))')"
   ]
  },
  {
   "cell_type": "markdown",
   "metadata": {
    "id": "VfJjZx5qMGyH"
   },
   "source": [
    "### Ejercicio 7\n",
    "Extrae todas las fechas de los siguientes textos, primero de manera completa y luego separando día, mes y año"
   ]
  },
  {
   "cell_type": "code",
   "execution_count": 46,
   "metadata": {
    "colab": {
     "base_uri": "https://localhost:8080/",
     "height": 173
    },
    "executionInfo": {
     "elapsed": 554,
     "status": "ok",
     "timestamp": 1612882633105,
     "user": {
      "displayName": "Fernando Mateo",
      "photoUrl": "https://lh3.googleusercontent.com/a-/AOh14Gizefb6yPZHZKjiub7uZkBVDAAlyxghIopf0kaJMA=s64",
      "userId": "00905419803076074042"
     },
     "user_tz": -60
    },
    "id": "oAIG_EoxMGyH",
    "outputId": "8ce88bab-af8b-4951-ea3a-1e21a9d46301"
   },
   "outputs": [
    {
     "data": {
      "text/html": [
       "<div>\n",
       "<style scoped>\n",
       "    .dataframe tbody tr th:only-of-type {\n",
       "        vertical-align: middle;\n",
       "    }\n",
       "\n",
       "    .dataframe tbody tr th {\n",
       "        vertical-align: top;\n",
       "    }\n",
       "\n",
       "    .dataframe thead th {\n",
       "        text-align: right;\n",
       "    }\n",
       "</style>\n",
       "<table border=\"1\" class=\"dataframe\">\n",
       "  <thead>\n",
       "    <tr style=\"text-align: right;\">\n",
       "      <th></th>\n",
       "      <th>texto</th>\n",
       "    </tr>\n",
       "  </thead>\n",
       "  <tbody>\n",
       "    <tr>\n",
       "      <th>0</th>\n",
       "      <td>Tengo cita con el doctor el 3/10</td>\n",
       "    </tr>\n",
       "    <tr>\n",
       "      <th>1</th>\n",
       "      <td>Juan nació el 28/3/78</td>\n",
       "    </tr>\n",
       "    <tr>\n",
       "      <th>2</th>\n",
       "      <td>Su primer hijo nació el nació el 3-10-2001 y e...</td>\n",
       "    </tr>\n",
       "    <tr>\n",
       "      <th>3</th>\n",
       "      <td>El 8/1/1998 se fué de viaje a Praga</td>\n",
       "    </tr>\n",
       "  </tbody>\n",
       "</table>\n",
       "</div>"
      ],
      "text/plain": [
       "                                               texto\n",
       "0                   Tengo cita con el doctor el 3/10\n",
       "1                              Juan nació el 28/3/78\n",
       "2  Su primer hijo nació el nació el 3-10-2001 y e...\n",
       "3                El 8/1/1998 se fué de viaje a Praga"
      ]
     },
     "execution_count": 46,
     "metadata": {},
     "output_type": "execute_result"
    }
   ],
   "source": [
    "fechas = [\"Tengo cita con el doctor el 3/10\", \n",
    "          \"Juan nació el 28/3/78\",\n",
    "          \"Su primer hijo nació el nació el 3-10-2001 y el segundo el 10-1-2003\",\n",
    "          \"El 8/1/1998 se fué de viaje a Praga\"]\n",
    "\n",
    "df = pd.DataFrame(fechas, columns=['texto'])\n",
    "df"
   ]
  },
  {
   "cell_type": "code",
   "execution_count": 47,
   "metadata": {
    "colab": {
     "base_uri": "https://localhost:8080/",
     "height": 235
    },
    "executionInfo": {
     "elapsed": 576,
     "status": "ok",
     "timestamp": 1612886680951,
     "user": {
      "displayName": "Fernando Mateo",
      "photoUrl": "https://lh3.googleusercontent.com/a-/AOh14Gizefb6yPZHZKjiub7uZkBVDAAlyxghIopf0kaJMA=s64",
      "userId": "00905419803076074042"
     },
     "user_tz": -60
    },
    "id": "u9xgqVReMGyI",
    "outputId": "c3de5e70-057e-4d94-be7a-2f450853ec29"
   },
   "outputs": [
    {
     "data": {
      "text/html": [
       "<div>\n",
       "<style scoped>\n",
       "    .dataframe tbody tr th:only-of-type {\n",
       "        vertical-align: middle;\n",
       "    }\n",
       "\n",
       "    .dataframe tbody tr th {\n",
       "        vertical-align: top;\n",
       "    }\n",
       "\n",
       "    .dataframe thead th {\n",
       "        text-align: right;\n",
       "    }\n",
       "</style>\n",
       "<table border=\"1\" class=\"dataframe\">\n",
       "  <thead>\n",
       "    <tr style=\"text-align: right;\">\n",
       "      <th></th>\n",
       "      <th></th>\n",
       "      <th>0</th>\n",
       "    </tr>\n",
       "    <tr>\n",
       "      <th></th>\n",
       "      <th>match</th>\n",
       "      <th></th>\n",
       "    </tr>\n",
       "  </thead>\n",
       "  <tbody>\n",
       "    <tr>\n",
       "      <th>0</th>\n",
       "      <th>0</th>\n",
       "      <td>3/10</td>\n",
       "    </tr>\n",
       "    <tr>\n",
       "      <th>1</th>\n",
       "      <th>0</th>\n",
       "      <td>28/3/78</td>\n",
       "    </tr>\n",
       "    <tr>\n",
       "      <th rowspan=\"2\" valign=\"top\">2</th>\n",
       "      <th>0</th>\n",
       "      <td>3-10-2001</td>\n",
       "    </tr>\n",
       "    <tr>\n",
       "      <th>1</th>\n",
       "      <td>10-1-2003</td>\n",
       "    </tr>\n",
       "    <tr>\n",
       "      <th>3</th>\n",
       "      <th>0</th>\n",
       "      <td>8/1/1998</td>\n",
       "    </tr>\n",
       "  </tbody>\n",
       "</table>\n",
       "</div>"
      ],
      "text/plain": [
       "                 0\n",
       "  match           \n",
       "0 0           3/10\n",
       "1 0        28/3/78\n",
       "2 0      3-10-2001\n",
       "  1      10-1-2003\n",
       "3 0       8/1/1998"
      ]
     },
     "execution_count": 47,
     "metadata": {},
     "output_type": "execute_result"
    }
   ],
   "source": [
    "# Solución\n",
    "\n",
    "df['texto'].str.extractall(r'(\\d+[/-]\\d+[/-]?\\d?\\d?\\d?\\d?)')\n",
    "\n"
   ]
  },
  {
   "cell_type": "code",
   "execution_count": 48,
   "metadata": {},
   "outputs": [
    {
     "data": {
      "text/html": [
       "<div>\n",
       "<style scoped>\n",
       "    .dataframe tbody tr th:only-of-type {\n",
       "        vertical-align: middle;\n",
       "    }\n",
       "\n",
       "    .dataframe tbody tr th {\n",
       "        vertical-align: top;\n",
       "    }\n",
       "\n",
       "    .dataframe thead th {\n",
       "        text-align: right;\n",
       "    }\n",
       "</style>\n",
       "<table border=\"1\" class=\"dataframe\">\n",
       "  <thead>\n",
       "    <tr style=\"text-align: right;\">\n",
       "      <th></th>\n",
       "      <th></th>\n",
       "      <th>dia</th>\n",
       "      <th>mes</th>\n",
       "      <th>año</th>\n",
       "    </tr>\n",
       "    <tr>\n",
       "      <th></th>\n",
       "      <th>match</th>\n",
       "      <th></th>\n",
       "      <th></th>\n",
       "      <th></th>\n",
       "    </tr>\n",
       "  </thead>\n",
       "  <tbody>\n",
       "    <tr>\n",
       "      <th>0</th>\n",
       "      <th>0</th>\n",
       "      <td>3</td>\n",
       "      <td>10</td>\n",
       "      <td>NaN</td>\n",
       "    </tr>\n",
       "    <tr>\n",
       "      <th>1</th>\n",
       "      <th>0</th>\n",
       "      <td>28</td>\n",
       "      <td>3</td>\n",
       "      <td>78</td>\n",
       "    </tr>\n",
       "    <tr>\n",
       "      <th rowspan=\"2\" valign=\"top\">2</th>\n",
       "      <th>0</th>\n",
       "      <td>3</td>\n",
       "      <td>10</td>\n",
       "      <td>2001</td>\n",
       "    </tr>\n",
       "    <tr>\n",
       "      <th>1</th>\n",
       "      <td>10</td>\n",
       "      <td>1</td>\n",
       "      <td>2003</td>\n",
       "    </tr>\n",
       "    <tr>\n",
       "      <th>3</th>\n",
       "      <th>0</th>\n",
       "      <td>8</td>\n",
       "      <td>1</td>\n",
       "      <td>1998</td>\n",
       "    </tr>\n",
       "  </tbody>\n",
       "</table>\n",
       "</div>"
      ],
      "text/plain": [
       "        dia mes   año\n",
       "  match              \n",
       "0 0       3  10   NaN\n",
       "1 0      28   3    78\n",
       "2 0       3  10  2001\n",
       "  1      10   1  2003\n",
       "3 0       8   1  1998"
      ]
     },
     "execution_count": 48,
     "metadata": {},
     "output_type": "execute_result"
    }
   ],
   "source": [
    "df['texto'].str.extractall(r'(?P<dia>\\d+)[/-](?P<mes>\\d+)[/-]?(?P<año>\\d?\\d?\\d?\\d?)')\n"
   ]
  },
  {
   "cell_type": "markdown",
   "metadata": {},
   "source": [
    "### Ejercicio 8\n",
    "A partir de la siguiente lista de Tweets, genera un DataFrame con las siguientes columnas:  \n",
    " - `Tweet`: texto del tweet\n",
    " - `Menciones`: lista con las menciones de cada tweet\n",
    " - `Hashtag`: lista con los hashtags de cada tweet"
   ]
  },
  {
   "cell_type": "code",
   "execution_count": 49,
   "metadata": {},
   "outputs": [],
   "source": [
    "tweets = [\n",
    "    '@Yulian_Poe @guillermoterry1 Ah. mucho más por supuesto! solo que lo incluyo. Me habías entendido mal',\n",
    "    'Se ha terminado #Rio2016 Lamentablemente no arriendo las ganancias al pueblo brasileño por la penuria que les espera',\n",
    "    '@Yosmath @Planeta87Radio  #Incantus  Genial ya estoy conectada',\n",
    "    '@seestrena #seestrenasietevidas Sería un gato tipo Garfield porqué soy un poco vago y porqué me encanta la lasaña!!',\n",
    "    'Hoy toca escuchar a #MiguelRios con otros grandes artistas...  #Insurrección...'\n",
    "]"
   ]
  },
  {
   "cell_type": "code",
   "execution_count": 50,
   "metadata": {},
   "outputs": [
    {
     "name": "stdout",
     "output_type": "stream",
     "text": [
      "                                              tweets\n",
      "0  @Yulian_Poe @guillermoterry1 Ah. mucho más por...\n",
      "1  Se ha terminado #Rio2016 Lamentablemente no ar...\n",
      "2  @Yosmath @Planeta87Radio  #Incantus  Genial ya...\n",
      "3  @seestrena #seestrenasietevidas Sería un gato ...\n",
      "4  Hoy toca escuchar a #MiguelRios con otros gran...\n",
      "                                               Tweet  \\\n",
      "0  @Yulian_Poe @guillermoterry1 Ah. mucho más por...   \n",
      "1  Se ha terminado #Rio2016 Lamentablemente no ar...   \n",
      "2  @Yosmath @Planeta87Radio  #Incantus  Genial ya...   \n",
      "3  @seestrena #seestrenasietevidas Sería un gato ...   \n",
      "4  Hoy toca escuchar a #MiguelRios con otros gran...   \n",
      "\n",
      "                         Menciones                       Hashtag  \n",
      "0  [@Yulian_Poe, @guillermoterry1]                            []  \n",
      "1                               []                    [#Rio2016]  \n",
      "2      [@Yosmath, @Planeta87Radio]                   [#Incantus]  \n",
      "3                     [@seestrena]        [#seestrenasietevidas]  \n",
      "4                               []  [#MiguelRios, #Insurrección]  \n"
     ]
    }
   ],
   "source": [
    "#solucion\n",
    "\n",
    "df = pd.DataFrame(tweets, columns=['tweets'])\n",
    "print(df)\n",
    "\n",
    "df_new = df['tweets'].str.extractall(r'(?P<Tweet>.+)').reset_index(drop=True)\n",
    "df_new['Menciones'] = df['tweets'].str.findall(r'(?P<Menciones>@\\w+)')\n",
    "df_new['Hashtag'] =  df['tweets'].str.findall(r'(?P<Menciones>#\\w+)')\n",
    "\n",
    "print(df_new)\n"
   ]
  },
  {
   "cell_type": "markdown",
   "metadata": {},
   "source": [
    "### Ejercicio 9\n",
    "A partir de la siguiente receta genera un dataframe con las siguientes columnas:\n",
    "- `Ingrediente`: nombre del ingrediente\n",
    "- `Cantidad`: valor numérico de la cantidad\n",
    "- `Unidades`: unidad en la que se expresa la cantidad  \n",
    "Nota: `Cantidad` y `Unidades` son opcionales. Considera como posibles unidades 'gr', 'gramos', 'litro', 'litros','l' y 'ml'"
   ]
  },
  {
   "cell_type": "code",
   "execution_count": 51,
   "metadata": {},
   "outputs": [],
   "source": [
    "texto = \"\"\"\n",
    "200 gr de arroz redondo.\n",
    "1 litro de leche entera.\n",
    "100 gr de azúcar.\n",
    "2 ramas de canela.\n",
    "La cáscara de un limón.\n",
    "2 ml de esencia de vainilla.\n",
    "50 gramos de mantequilla (Opcional).\n",
    "\"\"\""
   ]
  },
  {
   "cell_type": "code",
   "execution_count": 61,
   "metadata": {},
   "outputs": [
    {
     "name": "stdout",
     "output_type": "stream",
     "text": [
      "   Cantidad Unidades          Ingrediente\n",
      "0     200.0   gramos        arroz redondo\n",
      "1       1.0    litro         leche entera\n",
      "2     100.0   gramos               azúcar\n",
      "3       NaN                        canela\n",
      "4       NaN                      un limón\n",
      "5       2.0       ml  esencia de vainilla\n",
      "6      50.0   gramos         mantequilla \n"
     ]
    }
   ],
   "source": [
    "#Solución\n",
    "\n",
    "\n",
    "patron = r'(\\d+(?:\\.\\d+)?)?\\s*(gr|gramos|litro|litros|l|ml)?\\s+de\\s+(\\w[\\w\\s]*)'\n",
    "\n",
    "# Extraer los datos de cada línea de la receta\n",
    "datos = [re.findall(patron, linea.strip())[0] for linea in texto.split('\\n') if linea.strip()]\n",
    "\n",
    "# Crear el dataframe\n",
    "df = pd.DataFrame(datos, columns=['Cantidad', 'Unidades', 'Ingrediente'])\n",
    "\n",
    "# Convertir la columna 'Cantidad' a tipo numérico y llenar los valores nulos con 1\n",
    "df['Cantidad'] = pd.to_numeric(df['Cantidad'].fillna(1))\n",
    "\n",
    "# Mapear las diferentes unidades a los valores deseados\n",
    "unidades_dict = {'gr': 'gramos', 'l': 'litros'}\n",
    "df['Unidades'] = df['Unidades'].map(unidades_dict).fillna(df['Unidades'])\n",
    "\n",
    "# Imprimir el dataframe\n",
    "print(df)\n",
    "\n",
    "\n",
    "\n",
    "\n",
    "\n",
    "\n",
    "\n"
   ]
  }
 ],
 "metadata": {
  "colab": {
   "collapsed_sections": [],
   "name": "NLP_02-Expresiones regulares.ipynb",
   "provenance": []
  },
  "kernelspec": {
   "display_name": "sp3",
   "language": "python",
   "name": "python3"
  },
  "language_info": {
   "codemirror_mode": {
    "name": "ipython",
    "version": 3
   },
   "file_extension": ".py",
   "mimetype": "text/x-python",
   "name": "python",
   "nbconvert_exporter": "python",
   "pygments_lexer": "ipython3",
   "version": "3.9.12"
  },
  "vscode": {
   "interpreter": {
    "hash": "974d86b888590d91c91725277f46e2331e9f38bd583c386dd56dd3384a234a0e"
   }
  }
 },
 "nbformat": 4,
 "nbformat_minor": 4
}
