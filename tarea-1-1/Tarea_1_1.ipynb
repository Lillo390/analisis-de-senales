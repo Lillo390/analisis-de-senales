{
 "cells": [
  {
   "cell_type": "markdown",
   "id": "federal-stress",
   "metadata": {},
   "source": [
    "# Práctica 0\n",
    "## Uso de texto en Python"
   ]
  },
  {
   "cell_type": "code",
   "execution_count": 1,
   "id": "satisfied-condition",
   "metadata": {},
   "outputs": [],
   "source": [
    "texto = \"Este es un texto 'normal' en Python\""
   ]
  },
  {
   "cell_type": "markdown",
   "id": "advance-living",
   "metadata": {},
   "source": [
    "### Ejercicio 1\n",
    "Crea una lista con el nombre `lista` que contenga las palabras de la cadena `texto` y cuénta el nº de palabras que tiene la lista.  \n",
    "*Nota: considera que las palabras están separadas por el caracter espacio `' '`*"
   ]
  },
  {
   "cell_type": "code",
   "execution_count": 2,
   "id": "designed-darkness",
   "metadata": {},
   "outputs": [
    {
     "name": "stdout",
     "output_type": "stream",
     "text": [
      "['Este', 'es', 'un', 'texto', 'normal', 'en', 'Python']\n",
      "7\n"
     ]
    }
   ],
   "source": [
    "# quitar comillas simples\n",
    "texto_sin_comillas = texto.replace(\"'\", \"\")\n",
    "\n",
    "# crear lista de palabras\n",
    "lista = texto_sin_comillas.split()\n",
    "\n",
    "num_palabras = len(lista)\n",
    "print(lista)\n",
    "print(num_palabras)\n"
   ]
  },
  {
   "cell_type": "markdown",
   "id": "broken-duncan",
   "metadata": {},
   "source": [
    "### Ejercicio 2\n",
    "¿Qué palabras de `texto` empiezan en mayúscula?"
   ]
  },
  {
   "cell_type": "code",
   "execution_count": 3,
   "id": "unlike-screw",
   "metadata": {},
   "outputs": [
    {
     "data": {
      "text/plain": [
       "['Este', 'Python']"
      ]
     },
     "execution_count": 3,
     "metadata": {},
     "output_type": "execute_result"
    }
   ],
   "source": [
    "[c for c in lista if c.istitle()]"
   ]
  },
  {
   "cell_type": "markdown",
   "id": "familiar-frequency",
   "metadata": {},
   "source": [
    "### Ejercicio 3\n",
    "Convierte en mayúsculas las palabras de `texto` que tienen una longitud mayor que tres.  "
   ]
  },
  {
   "cell_type": "code",
   "execution_count": 4,
   "id": "mental-commander",
   "metadata": {},
   "outputs": [
    {
     "name": "stdout",
     "output_type": "stream",
     "text": [
      "['ESTE', 'es', 'un', 'TEXTO', 'NORMAL', 'en', 'PYTHON']\n"
     ]
    }
   ],
   "source": [
    "lista_may = [c.upper() if len(c)>3 else c for c in lista ]\n",
    "print(lista_may)"
   ]
  },
  {
   "cell_type": "markdown",
   "id": "sapphire-joshua",
   "metadata": {},
   "source": [
    "### Ejercicio 4\n",
    "Crea una cadena que contenga *sólo* con las palabras de `texto` terminadas en `n`, separadas por **coma**, y convertidas en mayúsculas *sólo* si tienen una longitud mayor que tres"
   ]
  },
  {
   "cell_type": "code",
   "execution_count": 7,
   "id": "minute-communist",
   "metadata": {},
   "outputs": [
    {
     "name": "stdout",
     "output_type": "stream",
     "text": [
      "un, en, PYTHON\n"
     ]
    }
   ],
   "source": [
    "cadena = ', '.join([c.upper() if len(c)>3 else c for c in lista if c.endswith('n')])\n",
    "\n",
    "print(cadena)"
   ]
  },
  {
   "cell_type": "markdown",
   "id": "annual-catch",
   "metadata": {},
   "source": [
    "### Ejercicio 5\n",
    "Enumera las palabras de la cadena `texto` e indica para cada una su longitud. P. ej:  \n",
    "`Palabra 0: 4 caracteres`"
   ]
  },
  {
   "cell_type": "code",
   "execution_count": 8,
   "id": "coupled-texas",
   "metadata": {},
   "outputs": [
    {
     "name": "stdout",
     "output_type": "stream",
     "text": [
      "Este: 4 caracteres\n",
      "es: 2 caracteres\n",
      "un: 2 caracteres\n",
      "texto: 5 caracteres\n",
      "normal: 6 caracteres\n",
      "en: 2 caracteres\n",
      "Python: 6 caracteres\n"
     ]
    }
   ],
   "source": [
    "for i, palabra in enumerate(lista):\n",
    "    print(f\"{palabra}: {len(palabra)} caracteres\")"
   ]
  },
  {
   "cell_type": "markdown",
   "id": "broad-jason",
   "metadata": {},
   "source": [
    "## Uso de texto en Pandas"
   ]
  },
  {
   "cell_type": "code",
   "execution_count": 9,
   "id": "returning-bosnia",
   "metadata": {},
   "outputs": [
    {
     "data": {
      "text/plain": [
       "'1.4.2'"
      ]
     },
     "execution_count": 9,
     "metadata": {},
     "output_type": "execute_result"
    }
   ],
   "source": [
    "import pandas as pd\n",
    "import numpy as np\n",
    "pd.__version__"
   ]
  },
  {
   "cell_type": "markdown",
   "id": "convinced-worker",
   "metadata": {},
   "source": [
    "### Ejercicio 6\n",
    "Convierte la lista de *strings* anterior a un objeto `Series` de Pandas de tipo `dtype=string` con el nombre `serie`."
   ]
  },
  {
   "cell_type": "code",
   "execution_count": 10,
   "id": "prepared-flesh",
   "metadata": {},
   "outputs": [],
   "source": [
    "serie = pd.Series(lista, dtype='string')"
   ]
  },
  {
   "cell_type": "markdown",
   "id": "scheduled-affiliate",
   "metadata": {},
   "source": [
    "### Ejercicio 7\n",
    "Convierte los elementos de `serie` a mayúsculas."
   ]
  },
  {
   "cell_type": "code",
   "execution_count": 12,
   "id": "original-delivery",
   "metadata": {},
   "outputs": [
    {
     "name": "stdout",
     "output_type": "stream",
     "text": [
      "0      ESTE\n",
      "1        ES\n",
      "2        UN\n",
      "3     TEXTO\n",
      "4    NORMAL\n",
      "5        EN\n",
      "6    PYTHON\n",
      "dtype: string\n"
     ]
    }
   ],
   "source": [
    "serie = serie.str.upper()\n",
    "print(serie)"
   ]
  },
  {
   "cell_type": "markdown",
   "id": "requested-naples",
   "metadata": {},
   "source": [
    "### Ejercicio 8\n",
    "Cuenta el número de apariciones del carácter 'e' (o 'E') en cada elemento.  \n",
    "*Nota*: Convierte todo el texto a mayúscula y utiliza el  método `count()` sobre el atributo `str` del objeto Series"
   ]
  },
  {
   "cell_type": "code",
   "execution_count": 13,
   "id": "announced-closure",
   "metadata": {},
   "outputs": [
    {
     "name": "stdout",
     "output_type": "stream",
     "text": [
      "0    2\n",
      "1    1\n",
      "2    0\n",
      "3    1\n",
      "4    0\n",
      "5    1\n",
      "6    0\n",
      "dtype: Int64\n"
     ]
    }
   ],
   "source": [
    "count_e = serie.str.count('E')\n",
    "print(count_e)"
   ]
  },
  {
   "cell_type": "markdown",
   "id": "southwest-pressing",
   "metadata": {},
   "source": [
    "### Ejercicio 9\n",
    "Crea un `DataFrame` de Pandas con los elementos originales de tu serie y dos columnas con:  \n",
    "- Elementos que contienen la letra 'e' (case insensitive)\n",
    "- Elementos que comienzan por la letra 'E' (sólo mayúsculas)"
   ]
  },
  {
   "cell_type": "code",
   "execution_count": 14,
   "id": "descending-cycling",
   "metadata": {},
   "outputs": [
    {
     "name": "stdout",
     "output_type": "stream",
     "text": [
      "  original  contiene_e  empieza_con_E\n",
      "0     Este        True           True\n",
      "1       es        True          False\n",
      "2       un       False          False\n",
      "3    texto        True          False\n",
      "4   normal       False          False\n",
      "5       en        True          False\n",
      "6   Python       False          False\n"
     ]
    }
   ],
   "source": [
    "# crear serie de Pandas a partir de la lista\n",
    "serie = pd.Series(lista, dtype='string')\n",
    "\n",
    "# crear diccionario con columnas adicionales\n",
    "data = {'original': serie,\n",
    "        'contiene_e': serie.str.contains('e', case=False),\n",
    "        'empieza_con_E': serie.str.startswith('E')}\n",
    "\n",
    "# crear DataFrame de Pandas a partir del diccionario\n",
    "df = pd.DataFrame(data)\n",
    "\n",
    "# imprimir el DataFrame\n",
    "print(df)"
   ]
  },
  {
   "cell_type": "markdown",
   "id": "universal-effect",
   "metadata": {},
   "source": [
    "### Ejercicio 10\n",
    "¿cuántos elementos contienen al menos un carácter 'n'?  \n",
    "*Nota*: recuerda que las Series de tipo booleano se pueden sumar con `sum()`"
   ]
  },
  {
   "cell_type": "code",
   "execution_count": 15,
   "id": "variable-charger",
   "metadata": {},
   "outputs": [
    {
     "data": {
      "text/plain": [
       "4"
      ]
     },
     "execution_count": 15,
     "metadata": {},
     "output_type": "execute_result"
    }
   ],
   "source": [
    "sum(serie.str.contains('n'))"
   ]
  },
  {
   "cell_type": "markdown",
   "id": "mediterranean-terrace",
   "metadata": {},
   "source": [
    "## Generator comprenhension y List comprenhension\n",
    "### Ejercicio 11\n",
    "Crea un generador llamado `gen` que recorra la lista de texto anterior y devuelva cada vez una tupla con la siguiente palabra y su longitud."
   ]
  },
  {
   "cell_type": "code",
   "execution_count": 16,
   "id": "promotional-wound",
   "metadata": {},
   "outputs": [],
   "source": [
    "gen = ((palabra, len(palabra)) for palabra in lista)"
   ]
  },
  {
   "cell_type": "markdown",
   "id": "twelve-twins",
   "metadata": {},
   "source": [
    "Comprueba que funciona correctamente:"
   ]
  },
  {
   "cell_type": "code",
   "execution_count": 17,
   "id": "chemical-vinyl",
   "metadata": {},
   "outputs": [
    {
     "name": "stdout",
     "output_type": "stream",
     "text": [
      "('Este', 4)\n",
      "('es', 2)\n",
      "('un', 2)\n",
      "('texto', 5)\n",
      "('normal', 6)\n",
      "('en', 2)\n",
      "('Python', 6)\n"
     ]
    }
   ],
   "source": [
    "for i in gen:\n",
    "    print(i)"
   ]
  },
  {
   "cell_type": "markdown",
   "id": "distinguished-policy",
   "metadata": {},
   "source": [
    "### Ejercicio 12\n",
    "Repite el ejercicio 11 enumerando sólo las palabras terminadas en 'n'"
   ]
  },
  {
   "cell_type": "code",
   "execution_count": 18,
   "id": "ancient-color",
   "metadata": {},
   "outputs": [
    {
     "name": "stdout",
     "output_type": "stream",
     "text": [
      "('un', 2)\n",
      "('en', 2)\n",
      "('Python', 6)\n"
     ]
    }
   ],
   "source": [
    "new_gen = ((c,len(c)) for c in lista if c.endswith('n'))\n",
    "\n",
    "for i in new_gen:\n",
    "    print(i)"
   ]
  }
 ],
 "metadata": {
  "kernelspec": {
   "display_name": "Python 3",
   "language": "python",
   "name": "python3"
  },
  "language_info": {
   "codemirror_mode": {
    "name": "ipython",
    "version": 3
   },
   "file_extension": ".py",
   "mimetype": "text/x-python",
   "name": "python",
   "nbconvert_exporter": "python",
   "pygments_lexer": "ipython3",
   "version": "3.9.12"
  }
 },
 "nbformat": 4,
 "nbformat_minor": 5
}
