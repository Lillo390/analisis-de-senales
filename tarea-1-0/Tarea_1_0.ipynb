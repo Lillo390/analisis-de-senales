{
  "nbformat": 4,
  "nbformat_minor": 0,
  "metadata": {
    "colab": {
      "provenance": []
    },
    "kernelspec": {
      "name": "python3",
      "display_name": "Python 3"
    },
    "language_info": {
      "name": "python"
    }
  },
  "cells": [
    {
      "cell_type": "markdown",
      "source": [
        "## Ejercicio 1 \n",
        "Obtén un dataframe con los títulos de las 250 mejores películas según IMDB (https://www.imdb.com/chart/top). Añade la posición, el año, el reparto de actores y las puntuaciones. "
      ],
      "metadata": {
        "id": "hFh71dxfghxS"
      }
    },
    {
      "cell_type": "code",
      "source": [
        "import requests\n",
        "from bs4 import BeautifulSoup\n",
        "import pandas as pd\n",
        "\n",
        "# Descarga el contenido de la página web\n",
        "url = 'https://www.imdb.com/chart/top'\n",
        "response = requests.get(url)\n",
        "html = response.content\n",
        "\n",
        "# Analiza el HTML con BeautifulSoup\n",
        "soup = BeautifulSoup(html, 'html.parser')\n",
        "\n",
        "# Encuentra la tabla que contiene la información de las películas\n",
        "table = soup.find('tbody', {'class': 'lister-list'})\n",
        "\n",
        "# Crea una lista vacía para almacenar los datos\n",
        "data = []\n",
        "\n",
        "# Encuentra las filas de la tabla y extrae la información de cada película\n",
        "for row in table.find_all('tr'):\n",
        "    # Extrae la posición y el título de la película\n",
        "    position = int(row.find('td', {'class': 'posterColumn'}).span['data-value'])\n",
        "    title = row.find('td', {'class': 'titleColumn'}).a.text\n",
        "    year = int(row.find('td', {'class': 'titleColumn'}).span.text.strip('()'))\n",
        "\n",
        "    # Extrae el reparto de actores\n",
        "    cast_list = row.find('td', {'class': 'titleColumn'}).a['title']\n",
        "    cast = cast_list.split(',')[0:3]\n",
        "\n",
        "    # Extrae la puntuación de la película\n",
        "    rating = float(row.find('td', {'class': 'ratingColumn imdbRating'}).strong.text)\n",
        "\n",
        "    # Almacena los datos en una lista\n",
        "    movie_data = [position, title, year, cast, rating]\n",
        "    data.append(movie_data)\n",
        "\n",
        "# Crea un dataframe con los datos\n",
        "columns = ['Position', 'Title', 'Year', 'Cast', 'Rating']\n",
        "df = pd.DataFrame(data, columns=columns)\n",
        "\n",
        "# Muestra el dataframe\n",
        "print(df)"
      ],
      "metadata": {
        "id": "YEKdEHh0iV1k",
        "outputId": "8b14d786-0780-46f0-f2c9-2aab1dc0a0c5",
        "colab": {
          "base_uri": "https://localhost:8080/"
        }
      },
      "execution_count": 1,
      "outputs": [
        {
          "output_type": "stream",
          "name": "stdout",
          "text": [
            "     Position                     Title  Year  \\\n",
            "0           1  The Shawshank Redemption  1994   \n",
            "1           2             The Godfather  1972   \n",
            "2           3           The Dark Knight  2008   \n",
            "3           4     The Godfather Part II  1974   \n",
            "4           5              12 Angry Men  1957   \n",
            "..        ...                       ...   ...   \n",
            "245       246            The Iron Giant  1999   \n",
            "246       247                  The Help  2011   \n",
            "247       248                   Aladdin  1992   \n",
            "248       249               Dersu Uzala  1975   \n",
            "249       250        Dances with Wolves  1990   \n",
            "\n",
            "                                                  Cast  Rating  \n",
            "0    [Frank Darabont (dir.),  Tim Robbins,  Morgan ...     9.2  \n",
            "1    [Francis Ford Coppola (dir.),  Marlon Brando, ...     9.2  \n",
            "2    [Christopher Nolan (dir.),  Christian Bale,  H...     9.0  \n",
            "3    [Francis Ford Coppola (dir.),  Al Pacino,  Rob...     9.0  \n",
            "4    [Sidney Lumet (dir.),  Henry Fonda,  Lee J. Cobb]     9.0  \n",
            "..                                                 ...     ...  \n",
            "245  [Brad Bird (dir.),  Eli Marienthal,  Harry Con...     8.0  \n",
            "246    [Tate Taylor (dir.),  Viola Davis,  Emma Stone]     8.0  \n",
            "247  [Ron Clements (dir.),  Scott Weinger,  Robin W...     8.0  \n",
            "248  [Akira Kurosawa (dir.),  Maksim Munzuk,  Yuriy...     8.0  \n",
            "249  [Kevin Costner (dir.),  Kevin Costner,  Mary M...     8.0  \n",
            "\n",
            "[250 rows x 5 columns]\n"
          ]
        }
      ]
    },
    {
      "cell_type": "markdown",
      "source": [
        "## Ejercicio 2\n",
        "\n",
        "Obtén todas las URL de las entradas en la wikipedia para todas las provincias de España.\n",
        "El listado de las provincias de España se puede descargar de la página de la wikipedia siguiente:\n",
        "https://es.wikipedia.org/wiki/Provincia_(España)\n",
        "\n",
        "Presenta la información en un dataframe, en el cual la primera columna sea el nombre de la provincia, la segunda su URL."
      ],
      "metadata": {
        "id": "adhSbUCfiWmZ"
      }
    },
    {
      "cell_type": "code",
      "source": [],
      "metadata": {
        "id": "WFJiUh9TiW6I"
      },
      "execution_count": null,
      "outputs": []
    },
    {
      "cell_type": "markdown",
      "source": [
        "Añade al dataframe anterior una tercera columna con el número de habitantes de cada provincia"
      ],
      "metadata": {
        "id": "VrcU3_5ml9GK"
      }
    },
    {
      "cell_type": "code",
      "source": [],
      "metadata": {
        "id": "6jN8f8e_O0HQ"
      },
      "execution_count": null,
      "outputs": []
    }
  ]
}